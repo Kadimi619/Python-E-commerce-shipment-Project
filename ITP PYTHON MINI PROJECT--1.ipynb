{
 "cells": [
  {
   "cell_type": "markdown",
   "metadata": {},
   "source": [
    "#                                      ITP Mini Project\n",
    "Courier Management System\n",
    "For a seamless eCommerce shopping experience,\n",
    "it is essential to deliver the product promptly to the customer.\n",
    "And that’s where a professional courier service plays a vital role.\n",
    "'FastTrack' courier company stores the relevant data of its clients and parcels in the form of dictionary. \n",
    "Create a dictionary for storing shipment information in key-value pairs.\n",
    "Shipment id is used as a key and \n",
    "list of other attributes like sender, receiver, start date, Delivery Date, Sender_location, Receiver_location, Delivery status,\n",
    "Shipping cost is associated with shipment id. Use the data shown in the table below.\n"
   ]
  },
  {
   "cell_type": "markdown",
   "metadata": {},
   "source": [
    "Q1. Create a Dictionary of lists to store the information of shipments given in the table"
   ]
  },
  {
   "cell_type": "code",
   "execution_count": 73,
   "metadata": {},
   "outputs": [],
   "source": [
    "a=['Shipment_id',101,102,103,104,105,106]\n",
    "b=[['Sender','Receiver','Start_date','Delivery_date','Sender_Location','Receiver_Location','Delivery_status','Shipping_cost'],[1,3,'14-03-2020','25-03-2020','Area1','Area6','Delivered',198],[4,1,'18-06-2020','09-07-2020','Area2','Area4','Delivered',275],\n",
    "   [2,3,'01-12-2020',None,'Area5','Area1','In-transit',200],[1,5,'23-06-2020','25-06-2020','Area1','Area4','Delivered',314],\n",
    "   [3,4,'29-08-2020','10-09-2020','Area5','Area3','Delivered',275],[5,2,'28-06-2020',None,'Area3','Area1','In-transit',270]]\n",
    "\n",
    "\n",
    "#Here using   None to  denote missing values in  delivery_date column\n"
   ]
  },
  {
   "cell_type": "code",
   "execution_count": 74,
   "metadata": {},
   "outputs": [
    {
     "name": "stdout",
     "output_type": "stream",
     "text": [
      "{'Shipment_id': ['Sender', 'Receiver', 'Start_date', 'Delivery_date', 'Sender_Location', 'Receiver_Location', 'Delivery_status', 'Shipping_cost'], 101: [1, 3, '14-03-2020', '25-03-2020', 'Area1', 'Area6', 'Delivered', 198], 102: [4, 1, '18-06-2020', '09-07-2020', 'Area2', 'Area4', 'Delivered', 275], 103: [2, 3, '01-12-2020', None, 'Area5', 'Area1', 'In-transit', 200], 104: [1, 5, '23-06-2020', '25-06-2020', 'Area1', 'Area4', 'Delivered', 314], 105: [3, 4, '29-08-2020', '10-09-2020', 'Area5', 'Area3', 'Delivered', 275], 106: [5, 2, '28-06-2020', None, 'Area3', 'Area1', 'In-transit', 270]}\n"
     ]
    }
   ],
   "source": [
    "Shipment={ i : b[count] for  count,i in enumerate(a) }   \n",
    "\n",
    "print(Shipment)           #HERE WE CREATE THE SHIPMENT DICTIONARY  "
   ]
  },
  {
   "cell_type": "code",
   "execution_count": 75,
   "metadata": {},
   "outputs": [
    {
     "data": {
      "text/plain": [
       "{'Shipment_id': ['Sender',\n",
       "  'Receiver',\n",
       "  'Start_date',\n",
       "  'Delivery_date',\n",
       "  'Sender_Location',\n",
       "  'Receiver_Location',\n",
       "  'Delivery_status',\n",
       "  'Shipping_cost'],\n",
       " 101: [1, 3, '14-03-2020', '25-03-2020', 'Area1', 'Area6', 'Delivered', 198],\n",
       " 102: [4, 1, '18-06-2020', '09-07-2020', 'Area2', 'Area4', 'Delivered', 275],\n",
       " 103: [2, 3, '01-12-2020', None, 'Area5', 'Area1', 'In-transit', 200],\n",
       " 104: [1, 5, '23-06-2020', '25-06-2020', 'Area1', 'Area4', 'Delivered', 314],\n",
       " 105: [3, 4, '29-08-2020', '10-09-2020', 'Area5', 'Area3', 'Delivered', 275],\n",
       " 106: [5, 2, '28-06-2020', None, 'Area3', 'Area1', 'In-transit', 270]}"
      ]
     },
     "execution_count": 75,
     "metadata": {},
     "output_type": "execute_result"
    }
   ],
   "source": [
    "Shipment"
   ]
  },
  {
   "cell_type": "markdown",
   "metadata": {},
   "source": [
    "Q2. Create a Dictionary of to store the information of clients given in the table."
   ]
  },
  {
   "cell_type": "code",
   "execution_count": 76,
   "metadata": {},
   "outputs": [],
   "source": [
    "Client_id=[1,2,3,4,5]\n",
    "Client_Name=['Phillip','Omega_III','Ramya','Romesh','John']"
   ]
  },
  {
   "cell_type": "code",
   "execution_count": 77,
   "metadata": {},
   "outputs": [
    {
     "name": "stdout",
     "output_type": "stream",
     "text": [
      "{1: 'Phillip', 2: 'Omega_III', 3: 'Ramya', 4: 'Romesh', 5: 'John'}\n"
     ]
    }
   ],
   "source": [
    "Information_client={ Client_id : Client_Name[counter]    for counter,Client_id  in enumerate(Client_id)  }\n",
    "\n",
    "\n",
    "print(Information_client)                        #"
   ]
  },
  {
   "cell_type": "markdown",
   "metadata": {},
   "source": [
    "Q3. Write a code to replace client’s id with their respective name in shipment dictionary using a loop \n",
    "     and dictionary comprehension"
   ]
  },
  {
   "cell_type": "code",
   "execution_count": 78,
   "metadata": {},
   "outputs": [
    {
     "name": "stdout",
     "output_type": "stream",
     "text": [
      "{'Shipment_id': ['Sender', 'Receiver', 'Start_date', 'Delivery_date', 'Sender_Location', 'Receiver_Location', 'Delivery_status', 'Shipping_cost'], 101: ['Phillip', 'Ramya', '14-03-2020', '25-03-2020', 'Area1', 'Area6', 'Delivered', 198], 102: ['Romesh', 'Phillip', '18-06-2020', '09-07-2020', 'Area2', 'Area4', 'Delivered', 275], 103: ['Omega_III', 'Ramya', '01-12-2020', None, 'Area5', 'Area1', 'In-transit', 200], 104: ['Phillip', 'John', '23-06-2020', '25-06-2020', 'Area1', 'Area4', 'Delivered', 314], 105: ['Ramya', 'Romesh', '29-08-2020', '10-09-2020', 'Area5', 'Area3', 'Delivered', 275], 106: ['John', 'Omega_III', '28-06-2020', None, 'Area3', 'Area1', 'In-transit', 270]}\n"
     ]
    }
   ],
   "source": [
    "ship2={ i :['Phillip'  if  k==1  else 'Omega_III'  if k==2  else 'Ramya'  if  k==3  else  'Romesh' \n",
    "         if  k==4  else 'John'  if  k==5   else k   for   k    in   j]   for   i,j  in  Shipment.items()}\n",
    "\n",
    "\n",
    "                            # Here  we are   using  dictionary comprehension and  for  loop \n",
    "print(ship2)               #to replace client’s id with their respective name in shipment dictionary"
   ]
  },
  {
   "cell_type": "code",
   "execution_count": 79,
   "metadata": {},
   "outputs": [
    {
     "data": {
      "text/plain": [
       "{'Shipment_id': ['Sender',\n",
       "  'Receiver',\n",
       "  'Start_date',\n",
       "  'Delivery_date',\n",
       "  'Sender_Location',\n",
       "  'Receiver_Location',\n",
       "  'Delivery_status',\n",
       "  'Shipping_cost'],\n",
       " 101: ['Phillip',\n",
       "  'Ramya',\n",
       "  '14-03-2020',\n",
       "  '25-03-2020',\n",
       "  'Area1',\n",
       "  'Area6',\n",
       "  'Delivered',\n",
       "  198],\n",
       " 102: ['Romesh',\n",
       "  'Phillip',\n",
       "  '18-06-2020',\n",
       "  '09-07-2020',\n",
       "  'Area2',\n",
       "  'Area4',\n",
       "  'Delivered',\n",
       "  275],\n",
       " 103: ['Omega_III',\n",
       "  'Ramya',\n",
       "  '01-12-2020',\n",
       "  None,\n",
       "  'Area5',\n",
       "  'Area1',\n",
       "  'In-transit',\n",
       "  200],\n",
       " 104: ['Phillip',\n",
       "  'John',\n",
       "  '23-06-2020',\n",
       "  '25-06-2020',\n",
       "  'Area1',\n",
       "  'Area4',\n",
       "  'Delivered',\n",
       "  314],\n",
       " 105: ['Ramya',\n",
       "  'Romesh',\n",
       "  '29-08-2020',\n",
       "  '10-09-2020',\n",
       "  'Area5',\n",
       "  'Area3',\n",
       "  'Delivered',\n",
       "  275],\n",
       " 106: ['John',\n",
       "  'Omega_III',\n",
       "  '28-06-2020',\n",
       "  None,\n",
       "  'Area3',\n",
       "  'Area1',\n",
       "  'In-transit',\n",
       "  270]}"
      ]
     },
     "execution_count": 79,
     "metadata": {},
     "output_type": "execute_result"
    }
   ],
   "source": [
    "ship2"
   ]
  },
  {
   "cell_type": "markdown",
   "metadata": {},
   "source": [
    "Q4. Print all shipment details that are sent by Phillip"
   ]
  },
  {
   "cell_type": "code",
   "execution_count": 80,
   "metadata": {},
   "outputs": [
    {
     "name": "stdout",
     "output_type": "stream",
     "text": [
      "Shipment details :SENDER,RECEIVER,START DATE,DELIVERY DATE,SENDER LOCATION,RECEIVER LOCATION,DELIVERY STATUS,SHIPPING  COST\n",
      "\n",
      "\n",
      "{101: ['Phillip', 'Ramya', '14-03-2020', '25-03-2020', 'Area1', 'Area6', 'Delivered', 198], 104: ['Phillip', 'John', '23-06-2020', '25-06-2020', 'Area1', 'Area4', 'Delivered', 314]}\n"
     ]
    }
   ],
   "source": [
    "a={}\n",
    "\n",
    "for i in   ship2:\n",
    "            \n",
    "    if ship2[i][0]=='Phillip':\n",
    "        a[i]=ship2[i]       \n",
    "        \n",
    "print('Shipment details :SENDER,RECEIVER,START DATE,DELIVERY DATE,SENDER LOCATION,RECEIVER LOCATION,DELIVERY STATUS,SHIPPING  COST')       \n",
    "print('\\n')\n",
    "print(a)     # Print all shipment details that are sent by Phillip\n"
   ]
  },
  {
   "cell_type": "markdown",
   "metadata": {},
   "source": [
    "Q5. Print all shipment details that are received by Ramya"
   ]
  },
  {
   "cell_type": "code",
   "execution_count": 81,
   "metadata": {},
   "outputs": [
    {
     "name": "stdout",
     "output_type": "stream",
     "text": [
      "Shipment details :SENDER,RECEIVER,START DATE,DELIVERY DATE,SENDER LOCATION,RECEIVER LOCATION,DELIVERY STATUS,SHIPPING  COST\n",
      "\n",
      "\n",
      "{101: ['Phillip', 'Ramya', '14-03-2020', '25-03-2020', 'Area1', 'Area6', 'Delivered', 198], 103: ['Omega_III', 'Ramya', '01-12-2020', None, 'Area5', 'Area1', 'In-transit', 200]}\n"
     ]
    }
   ],
   "source": [
    "b={}\n",
    "\n",
    "for i in   ship2:\n",
    "            \n",
    "    if ship2[i][1]=='Ramya':\n",
    "        b[i]=ship2[i]       \n",
    "        \n",
    "print('Shipment details :SENDER,RECEIVER,START DATE,DELIVERY DATE,SENDER LOCATION,RECEIVER LOCATION,DELIVERY STATUS,SHIPPING  COST')       \n",
    "print('\\n')\n",
    "print(b)  #Print all shipment details that are received by Ramya\n",
    "  "
   ]
  },
  {
   "cell_type": "markdown",
   "metadata": {},
   "source": [
    "Q6. Print all shipments which are in 'In-Transit' status"
   ]
  },
  {
   "cell_type": "code",
   "execution_count": 82,
   "metadata": {},
   "outputs": [
    {
     "name": "stdout",
     "output_type": "stream",
     "text": [
      "Shipment details :SENDER,RECEIVER,START DATE,DELIVERY DATE,SENDER LOCATION,RECEIVER LOCATION,DELIVERY STATUS,SHIPPING  COST\n",
      "\n",
      "\n",
      "{103: ['Omega_III', 'Ramya', '01-12-2020', None, 'Area5', 'Area1', 'In-transit', 200], 106: ['John', 'Omega_III', '28-06-2020', None, 'Area3', 'Area1', 'In-transit', 270]}\n"
     ]
    }
   ],
   "source": [
    "c={}\n",
    "\n",
    "for i in ship2:\n",
    "             \n",
    "    if ship2[i][6]=='In-transit':\n",
    "        c[i]=ship2[i]\n",
    "                \n",
    "print('Shipment details :SENDER,RECEIVER,START DATE,DELIVERY DATE,SENDER LOCATION,RECEIVER LOCATION,DELIVERY STATUS,SHIPPING  COST')       \n",
    "print('\\n')\n",
    "print(c)  #Print all shipments which are in 'In-Transit' status\n",
    "          "
   ]
  },
  {
   "cell_type": "markdown",
   "metadata": {},
   "source": [
    "Q7. Print all shipments which are delivered within 7 days of courier Start date"
   ]
  },
  {
   "cell_type": "code",
   "execution_count": 83,
   "metadata": {},
   "outputs": [
    {
     "name": "stdout",
     "output_type": "stream",
     "text": [
      "Number of days:: 2 days, 0:00:00\n",
      "Shipment details :SENDER,RECEIVER,START DATE,DELIVERY DATE,SENDER LOCATION,RECEIVER LOCATION,DELIVERY STATUS,SHIPPING  COST\n",
      "\n",
      "\n",
      "{104: ['Phillip', 'John', '23-06-2020', '25-06-2020', 'Area1', 'Area4', 'Delivered', 314]}\n"
     ]
    }
   ],
   "source": [
    "from  datetime import datetime\n",
    "from datetime import date\n",
    "\n",
    "e={}\n",
    "for  i in  ship2:\n",
    " \n",
    "    \n",
    "    if i=='Shipment_id':\n",
    "        continue\n",
    "    else:\n",
    "        if ship2[i][-2] !='In-transit':\n",
    "            \n",
    "        \n",
    "            delta=(datetime.strptime(ship2[i][3],'%d-%m-%Y')-datetime.strptime(ship2[i][2],'%d-%m-%Y'))\n",
    "            \n",
    "  \n",
    "        \n",
    "            if delta.days<=7:\n",
    "                print('Number of days::',delta)\n",
    "                e[i]=ship2[i]\n",
    "           \n",
    "                \n",
    "print('Shipment details :SENDER,RECEIVER,START DATE,DELIVERY DATE,SENDER LOCATION,RECEIVER LOCATION,DELIVERY STATUS,SHIPPING  COST')                     \n",
    "print('\\n')\n",
    "print(e)               #Print all shipments which are delivered within 7 days of courier Start date\n"
   ]
  },
  {
   "cell_type": "markdown",
   "metadata": {},
   "source": [
    "Q8. Print all shipments which are delivered after 15 days of courier start date or not yet been delivered."
   ]
  },
  {
   "cell_type": "code",
   "execution_count": 85,
   "metadata": {},
   "outputs": [
    {
     "name": "stdout",
     "output_type": "stream",
     "text": [
      "Shipment details :SENDER,RECEIVER,START DATE,DELIVERY DATE,SENDER LOCATION,RECEIVER LOCATION,DELIVERY STATUS,SHIPPING  COST\n",
      "\n",
      "\n",
      "{102: ['Romesh', 'Phillip', '18-06-2020', '09-07-2020', 'Area2', 'Area4', 'Delivered', 275], 103: ['Omega_III', 'Ramya', '01-12-2020', None, 'Area5', 'Area1', 'In-transit', 200], 106: ['John', 'Omega_III', '28-06-2020', None, 'Area3', 'Area1', 'In-transit', 270]}\n"
     ]
    }
   ],
   "source": [
    "from  datetime import datetime\n",
    "\n",
    "z={}\n",
    "\n",
    "for i in  ship2:\n",
    "    \n",
    "    if i=='Shipment_id':\n",
    "        continue\n",
    "        \n",
    "    elif  (type(ship2[i][3])==type(None)): #all shipments  not yet been delivered\n",
    "        z[i]=ship2[i]\n",
    "        \n",
    "    else:               #all shipments which are delivered after 15 days of courier start date\n",
    "        d=(datetime.strptime(ship2[i][3],'%d-%m-%Y')-datetime.strptime(ship2[i][2],'%d-%m-%Y')).days\n",
    "                   \n",
    "        if d>15:  \n",
    "            \n",
    "            z[i]=ship2[i]\n",
    "print('Shipment details :SENDER,RECEIVER,START DATE,DELIVERY DATE,SENDER LOCATION,RECEIVER LOCATION,DELIVERY STATUS,SHIPPING  COST')                     \n",
    "print('\\n')\n",
    "print(z)           # Print all shipments which are delivered after 15 days of courier start date or not yet been delivered"
   ]
  },
  {
   "cell_type": "markdown",
   "metadata": {},
   "source": [
    "Q 9. Write a function find_all_routes to display all possible routes from senders location to receivers location \n",
    "      given in the dictionary for each shipment.¶"
   ]
  },
  {
   "cell_type": "code",
   "execution_count": 86,
   "metadata": {},
   "outputs": [
    {
     "data": {
      "image/png": "[encoded data removed]",
      "text/plain": [
       "<IPython.core.display.Image object>"
      ]
     },
     "execution_count": 86,
     "metadata": {
      "image/png": {
       "height": 400,
       "width": 400
      }
     },
     "output_type": "execute_result"
    }
   ],
   "source": [
    "from  IPython.display  import Image\n",
    "Image(filename='C:\\\\Users\\\\kadim\\\\Downloads\\\\graph.png',width=400,height=400)"
   ]
  },
  {
   "cell_type": "code",
   "execution_count": 87,
   "metadata": {},
   "outputs": [
    {
     "data": {
      "image/png": "[encoded data removed]",
      "text/plain": [
       "<IPython.core.display.Image object>"
      ]
     },
     "execution_count": 87,
     "metadata": {
      "image/png": {
       "height": 400,
       "width": 400
      }
     },
     "output_type": "execute_result"
    }
   ],
   "source": [
    "from IPython.display  import Image\n",
    "Image(filename='C:\\\\Users\\\\kadim\\\\Downloads\\\\Matrix.png',height=400,width=400)"
   ]
  },
  {
   "cell_type": "code",
   "execution_count": 88,
   "metadata": {},
   "outputs": [],
   "source": [
    "#creating matrix  for  the graph\n",
    "\n",
    "matrix=[[0,1,0,0,0,1],\n",
    "       [1,0,1,1,0,0],\n",
    "       [0,1,0,1,0,0],\n",
    "       [0,1,1,0,1,0],\n",
    "       [0,0,0,1,0,0],\n",
    "       [1,0,0,0,0,0]]"
   ]
  },
  {
   "cell_type": "code",
   "execution_count": 89,
   "metadata": {},
   "outputs": [],
   "source": [
    "#Function   to   find  all   paths\n",
    "\n",
    "def find_all_paths(matrix, start,end, visited,path):\n",
    "    \n",
    "    visited[start]=True     #  start and end are node points we check  and  path  initially is empty list\n",
    "                            # visited[start]=True  means  the path  has been  visited  by the node\n",
    "                           #Here if visited[i]=False means the path has  not  been  visited   by  the node  \n",
    "    \n",
    "    path.append(start+1)           # we append the start node to   the path\n",
    "    if start==end:\n",
    "        print('path is :',path)\n",
    "    else:\n",
    "        for i in range(6):            #here we check  for the below two  conditions , if satisfies  we use the \n",
    "                                       #recursion  condition  to  check  the remaining paths....\n",
    "            \n",
    "            if matrix[start][i]==1  and (visited[i]==False):\n",
    "                  find_all_paths(matrix, i, end,visited, path)    \n",
    "\n",
    "    path.pop()           # we finally  clear the path  after the getting  final  path  for the next  call  by  the function\n",
    "                         #to  find remaining  paths\n",
    "    visited[start]=False\n",
    "    \n",
    "visited=[False for i in  range(6)]\n",
    "matrix=[[0,1,0,0,0,1],\n",
    "       [1,0,1,1,0,0],\n",
    "       [0,1,0,1,0,0],\n",
    "       [0,1,1,0,1,0],\n",
    "       [0,0,0,1,0,0],\n",
    "       [1,0,0,0,0,0]]\n",
    "path=[]"
   ]
  },
  {
   "cell_type": "code",
   "execution_count": 90,
   "metadata": {},
   "outputs": [
    {
     "name": "stdout",
     "output_type": "stream",
     "text": [
      "Shipment_id: Shipment_id\n",
      "\r\n",
      "Shipment_id: 101\n",
      "\r\n",
      "Sender location: 1\n",
      "Receiver Location: 6\n",
      "All routes\n",
      "path is : [6, 1]\n",
      "\r\n",
      "Shipment_id: 102\n",
      "\r\n",
      "Sender location: 2\n",
      "Receiver Location: 4\n",
      "All routes\n",
      "path is : [4, 2]\n",
      "path is : [4, 3, 2]\n",
      "\r\n",
      "Shipment_id: 103\n",
      "\r\n",
      "Sender location: 5\n",
      "Receiver Location: 1\n",
      "All routes\n",
      "path is : [1, 2, 3, 4, 5]\n",
      "path is : [1, 2, 4, 5]\n",
      "\r\n",
      "Shipment_id: 104\n",
      "\r\n",
      "Sender location: 1\n",
      "Receiver Location: 4\n",
      "All routes\n",
      "path is : [4, 2, 1]\n",
      "path is : [4, 3, 2, 1]\n",
      "\r\n",
      "Shipment_id: 105\n",
      "\r\n",
      "Sender location: 5\n",
      "Receiver Location: 3\n",
      "All routes\n",
      "path is : [3, 2, 4, 5]\n",
      "path is : [3, 4, 5]\n",
      "\r\n",
      "Shipment_id: 106\n",
      "\r\n",
      "Sender location: 3\n",
      "Receiver Location: 1\n",
      "All routes\n",
      "path is : [1, 2, 3]\n",
      "path is : [1, 2, 4, 3]\n",
      "\r\n"
     ]
    }
   ],
   "source": [
    "def show_paths(s):\n",
    "    \n",
    "    for i in  ship2:\n",
    "        print(\"Shipment_id:\",i)\n",
    "        print('\\r')\n",
    "        \n",
    "        \n",
    "        if i=='Shipment_id':\n",
    "            continue\n",
    "       \n",
    "        s=int(ship2[i][4][-1])\n",
    "        print('Sender location:',s)\n",
    "\n",
    "        r=int(ship2[i][5][-1])\n",
    "        print('Receiver Location:',r)\n",
    "        print('All routes')\n",
    "        \n",
    "        find_all_paths(matrix,r-1,s-1,visited,path)\n",
    "        print('\\r')\n",
    "        \n",
    "        \n",
    "show_paths(ship2)"
   ]
  },
  {
   "cell_type": "code",
   "execution_count": null,
   "metadata": {},
   "outputs": [],
   "source": []
  },
  {
   "cell_type": "code",
   "execution_count": null,
   "metadata": {},
   "outputs": [],
   "source": []
  }
 ],
 "metadata": {
  "kernelspec": {
   "display_name": "Python 3",
   "language": "python",
   "name": "python3"
  },
  "language_info": {
   "codemirror_mode": {
    "name": "ipython",
    "version": 3
   },
   "file_extension": ".py",
   "mimetype": "text/x-python",
   "name": "python",
   "nbconvert_exporter": "python",
   "pygments_lexer": "ipython3",
   "version": "3.8.3"
  }
 },
 "nbformat": 4,
 "nbformat_minor": 4
}
